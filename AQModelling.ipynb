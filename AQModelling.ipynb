{
 "cells": [
  {
   "cell_type": "markdown",
   "metadata": {},
   "source": [
    "## Libraries"
   ]
  },
  {
   "cell_type": "code",
   "execution_count": 1,
   "metadata": {},
   "outputs": [],
   "source": [
    "import pandas as pd"
   ]
  },
  {
   "cell_type": "markdown",
   "metadata": {},
   "source": [
    "## Kaggle Data Download"
   ]
  },
  {
   "cell_type": "code",
   "execution_count": 2,
   "metadata": {},
   "outputs": [],
   "source": [
    "from kaggle.api.kaggle_api_extended import KaggleApi\n",
    "api = KaggleApi()\n",
    "api.authenticate()"
   ]
  },
  {
   "cell_type": "code",
   "execution_count": 2,
   "metadata": {},
   "outputs": [
    {
     "name": "stdout",
     "output_type": "stream",
     "text": [
      "Downloading AURN_2015_2023.csv.zip to /workspaces/Thesis\n"
     ]
    },
    {
     "name": "stderr",
     "output_type": "stream",
     "text": [
      "100%|██████████| 335M/335M [00:08<00:00, 42.0MB/s] "
     ]
    },
    {
     "name": "stdout",
     "output_type": "stream",
     "text": [
      "\n"
     ]
    },
    {
     "name": "stderr",
     "output_type": "stream",
     "text": [
      "\n"
     ]
    },
    {
     "data": {
      "text/plain": [
       "True"
      ]
     },
     "execution_count": 2,
     "metadata": {},
     "output_type": "execute_result"
    }
   ],
   "source": [
    "# download single file\n",
    "#Signature: dataset_download_file(dataset, file_name, path=None, force=False, quiet=True)\n",
    "api.dataset_download_file('airqualityanthony/uk-defra-aurn-air-quality-data-2015-2023','AURN_2015_2023.csv',quiet=False)"
   ]
  },
  {
   "cell_type": "markdown",
   "metadata": {},
   "source": [
    "## Data Prep"
   ]
  },
  {
   "cell_type": "code",
   "execution_count": 3,
   "metadata": {},
   "outputs": [
    {
     "name": "stderr",
     "output_type": "stream",
     "text": [
      "/opt/conda/envs/masters/lib/python3.10/site-packages/dask/dataframe/_pyarrow_compat.py:23: UserWarning: You are using pyarrow version 13.0.0 which is known to be insecure. See https://www.cve.org/CVERecord?id=CVE-2023-47248 for further details. Please upgrade to pyarrow>=14.0.1 or install pyarrow-hotfix to patch your current version.\n",
      "  warnings.warn(\n"
     ]
    }
   ],
   "source": [
    "import dask.dataframe as dd\n",
    "df = dd.read_csv('AURN_2015_2023.csv')"
   ]
  },
  {
   "cell_type": "code",
   "execution_count": 4,
   "metadata": {},
   "outputs": [
    {
     "data": {
      "text/html": [
       "<div>\n",
       "<style scoped>\n",
       "    .dataframe tbody tr th:only-of-type {\n",
       "        vertical-align: middle;\n",
       "    }\n",
       "\n",
       "    .dataframe tbody tr th {\n",
       "        vertical-align: top;\n",
       "    }\n",
       "\n",
       "    .dataframe thead th {\n",
       "        text-align: right;\n",
       "    }\n",
       "</style>\n",
       "<table border=\"1\" class=\"dataframe\">\n",
       "  <thead>\n",
       "    <tr style=\"text-align: right;\">\n",
       "      <th></th>\n",
       "      <th>Unnamed: 0</th>\n",
       "      <th>site</th>\n",
       "      <th>code</th>\n",
       "      <th>date</th>\n",
       "      <th>co</th>\n",
       "      <th>nox</th>\n",
       "      <th>no2</th>\n",
       "      <th>no</th>\n",
       "      <th>o3</th>\n",
       "      <th>so2</th>\n",
       "      <th>...</th>\n",
       "      <th>v10</th>\n",
       "      <th>v2.5</th>\n",
       "      <th>nv10</th>\n",
       "      <th>nv2.5</th>\n",
       "      <th>ws</th>\n",
       "      <th>wd</th>\n",
       "      <th>air_temp</th>\n",
       "      <th>latitude</th>\n",
       "      <th>longitude</th>\n",
       "      <th>site_type</th>\n",
       "    </tr>\n",
       "  </thead>\n",
       "  <tbody>\n",
       "    <tr>\n",
       "      <th>0</th>\n",
       "      <td>1</td>\n",
       "      <td>Aberdeen Erroll Park</td>\n",
       "      <td>ABD9</td>\n",
       "      <td>2021-10-01 00:00:00</td>\n",
       "      <td>NaN</td>\n",
       "      <td>NaN</td>\n",
       "      <td>NaN</td>\n",
       "      <td>NaN</td>\n",
       "      <td>NaN</td>\n",
       "      <td>NaN</td>\n",
       "      <td>...</td>\n",
       "      <td>NaN</td>\n",
       "      <td>NaN</td>\n",
       "      <td>NaN</td>\n",
       "      <td>NaN</td>\n",
       "      <td>NaN</td>\n",
       "      <td>NaN</td>\n",
       "      <td>NaN</td>\n",
       "      <td>57.1574</td>\n",
       "      <td>-2.09477</td>\n",
       "      <td>Urban Background</td>\n",
       "    </tr>\n",
       "    <tr>\n",
       "      <th>1</th>\n",
       "      <td>2</td>\n",
       "      <td>Aberdeen Erroll Park</td>\n",
       "      <td>ABD9</td>\n",
       "      <td>2021-10-01 01:00:00</td>\n",
       "      <td>NaN</td>\n",
       "      <td>18.54277</td>\n",
       "      <td>14.25911</td>\n",
       "      <td>2.79374</td>\n",
       "      <td>35.32389</td>\n",
       "      <td>NaN</td>\n",
       "      <td>...</td>\n",
       "      <td>NaN</td>\n",
       "      <td>NaN</td>\n",
       "      <td>NaN</td>\n",
       "      <td>NaN</td>\n",
       "      <td>NaN</td>\n",
       "      <td>NaN</td>\n",
       "      <td>NaN</td>\n",
       "      <td>57.1574</td>\n",
       "      <td>-2.09477</td>\n",
       "      <td>Urban Background</td>\n",
       "    </tr>\n",
       "    <tr>\n",
       "      <th>2</th>\n",
       "      <td>3</td>\n",
       "      <td>Aberdeen Erroll Park</td>\n",
       "      <td>ABD9</td>\n",
       "      <td>2021-10-01 02:00:00</td>\n",
       "      <td>NaN</td>\n",
       "      <td>13.90708</td>\n",
       "      <td>12.77317</td>\n",
       "      <td>0.73952</td>\n",
       "      <td>30.23486</td>\n",
       "      <td>NaN</td>\n",
       "      <td>...</td>\n",
       "      <td>NaN</td>\n",
       "      <td>NaN</td>\n",
       "      <td>NaN</td>\n",
       "      <td>NaN</td>\n",
       "      <td>NaN</td>\n",
       "      <td>NaN</td>\n",
       "      <td>NaN</td>\n",
       "      <td>57.1574</td>\n",
       "      <td>-2.09477</td>\n",
       "      <td>Urban Background</td>\n",
       "    </tr>\n",
       "    <tr>\n",
       "      <th>3</th>\n",
       "      <td>4</td>\n",
       "      <td>Aberdeen Erroll Park</td>\n",
       "      <td>ABD9</td>\n",
       "      <td>2021-10-01 03:00:00</td>\n",
       "      <td>NaN</td>\n",
       "      <td>15.88038</td>\n",
       "      <td>13.32908</td>\n",
       "      <td>1.66392</td>\n",
       "      <td>21.10453</td>\n",
       "      <td>NaN</td>\n",
       "      <td>...</td>\n",
       "      <td>NaN</td>\n",
       "      <td>NaN</td>\n",
       "      <td>NaN</td>\n",
       "      <td>NaN</td>\n",
       "      <td>NaN</td>\n",
       "      <td>NaN</td>\n",
       "      <td>NaN</td>\n",
       "      <td>57.1574</td>\n",
       "      <td>-2.09477</td>\n",
       "      <td>Urban Background</td>\n",
       "    </tr>\n",
       "    <tr>\n",
       "      <th>4</th>\n",
       "      <td>5</td>\n",
       "      <td>Aberdeen Erroll Park</td>\n",
       "      <td>ABD9</td>\n",
       "      <td>2021-10-01 04:00:00</td>\n",
       "      <td>NaN</td>\n",
       "      <td>20.20285</td>\n",
       "      <td>18.26575</td>\n",
       "      <td>1.26334</td>\n",
       "      <td>16.41463</td>\n",
       "      <td>NaN</td>\n",
       "      <td>...</td>\n",
       "      <td>NaN</td>\n",
       "      <td>NaN</td>\n",
       "      <td>NaN</td>\n",
       "      <td>NaN</td>\n",
       "      <td>NaN</td>\n",
       "      <td>NaN</td>\n",
       "      <td>NaN</td>\n",
       "      <td>57.1574</td>\n",
       "      <td>-2.09477</td>\n",
       "      <td>Urban Background</td>\n",
       "    </tr>\n",
       "  </tbody>\n",
       "</table>\n",
       "<p>5 rows × 22 columns</p>\n",
       "</div>"
      ],
      "text/plain": [
       "   Unnamed: 0                  site  code                 date  co       nox  \\\n",
       "0           1  Aberdeen Erroll Park  ABD9  2021-10-01 00:00:00 NaN       NaN   \n",
       "1           2  Aberdeen Erroll Park  ABD9  2021-10-01 01:00:00 NaN  18.54277   \n",
       "2           3  Aberdeen Erroll Park  ABD9  2021-10-01 02:00:00 NaN  13.90708   \n",
       "3           4  Aberdeen Erroll Park  ABD9  2021-10-01 03:00:00 NaN  15.88038   \n",
       "4           5  Aberdeen Erroll Park  ABD9  2021-10-01 04:00:00 NaN  20.20285   \n",
       "\n",
       "        no2       no        o3  so2  ...  v10  v2.5  nv10  nv2.5  ws  wd  \\\n",
       "0       NaN      NaN       NaN  NaN  ...  NaN   NaN   NaN    NaN NaN NaN   \n",
       "1  14.25911  2.79374  35.32389  NaN  ...  NaN   NaN   NaN    NaN NaN NaN   \n",
       "2  12.77317  0.73952  30.23486  NaN  ...  NaN   NaN   NaN    NaN NaN NaN   \n",
       "3  13.32908  1.66392  21.10453  NaN  ...  NaN   NaN   NaN    NaN NaN NaN   \n",
       "4  18.26575  1.26334  16.41463  NaN  ...  NaN   NaN   NaN    NaN NaN NaN   \n",
       "\n",
       "   air_temp  latitude  longitude         site_type  \n",
       "0       NaN   57.1574   -2.09477  Urban Background  \n",
       "1       NaN   57.1574   -2.09477  Urban Background  \n",
       "2       NaN   57.1574   -2.09477  Urban Background  \n",
       "3       NaN   57.1574   -2.09477  Urban Background  \n",
       "4       NaN   57.1574   -2.09477  Urban Background  \n",
       "\n",
       "[5 rows x 22 columns]"
      ]
     },
     "execution_count": 4,
     "metadata": {},
     "output_type": "execute_result"
    }
   ],
   "source": [
    "df.head()"
   ]
  },
  {
   "cell_type": "markdown",
   "metadata": {},
   "source": [
    "##### Subset Columns interested in"
   ]
  },
  {
   "cell_type": "code",
   "execution_count": 5,
   "metadata": {},
   "outputs": [],
   "source": [
    "## select columns\n",
    "data = df[['site','code','date','no2','ws','wd','air_temp']]"
   ]
  },
  {
   "cell_type": "code",
   "execution_count": 14,
   "metadata": {},
   "outputs": [
    {
     "data": {
      "text/plain": [
       "11252614"
      ]
     },
     "execution_count": 14,
     "metadata": {},
     "output_type": "execute_result"
    }
   ],
   "source": [
    "len(data)"
   ]
  },
  {
   "cell_type": "code",
   "execution_count": 10,
   "metadata": {},
   "outputs": [
    {
     "data": {
      "text/plain": [
       "site             0\n",
       "code             0\n",
       "date             0\n",
       "no2         747992\n",
       "ws          595164\n",
       "wd          595164\n",
       "air_temp    595164\n",
       "dtype: int64"
      ]
     },
     "execution_count": 10,
     "metadata": {},
     "output_type": "execute_result"
    }
   ],
   "source": [
    "## count NAs\n",
    "data.isnull().sum().compute()"
   ]
  },
  {
   "cell_type": "code",
   "execution_count": 6,
   "metadata": {},
   "outputs": [
    {
     "data": {
      "text/plain": [
       "site        0\n",
       "code        0\n",
       "date        0\n",
       "no2         0\n",
       "ws          0\n",
       "wd          0\n",
       "air_temp    0\n",
       "dtype: int64"
      ]
     },
     "execution_count": 6,
     "metadata": {},
     "output_type": "execute_result"
    }
   ],
   "source": [
    "## drop NAs\n",
    "data = data.dropna()\n",
    "data.isnull().sum().compute()"
   ]
  },
  {
   "cell_type": "markdown",
   "metadata": {},
   "source": [
    "## Modelling"
   ]
  },
  {
   "cell_type": "code",
   "execution_count": null,
   "metadata": {},
   "outputs": [],
   "source": []
  }
 ],
 "metadata": {
  "kernelspec": {
   "display_name": "masters",
   "language": "python",
   "name": "python3"
  },
  "language_info": {
   "codemirror_mode": {
    "name": "ipython",
    "version": 3
   },
   "file_extension": ".py",
   "mimetype": "text/x-python",
   "name": "python",
   "nbconvert_exporter": "python",
   "pygments_lexer": "ipython3",
   "version": "3.10.13"
  }
 },
 "nbformat": 4,
 "nbformat_minor": 2
}
