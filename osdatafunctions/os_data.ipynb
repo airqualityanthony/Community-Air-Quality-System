{
 "cells": [
  {
   "cell_type": "code",
   "execution_count": 42,
   "metadata": {},
   "outputs": [],
   "source": [
    "\n",
    "from osdatahub import FeaturesAPI, Extent, NGD\n",
    "import geopandas as gpd\n",
    "import folium\n",
    "import matplotlib.pyplot as plt\n",
    "import mapclassify as mc\n",
    "from shapely.geometry import Point\n",
    "import os\n",
    "import numpy as np\n",
    "\n",
    "key = os.environ.get('OS_API_KEY')\n",
    "bbox = (384427,\t397567, 385272,398221)\n",
    "extent = Extent.from_bbox(bbox, \"EPSG:4326\")\n",
    "crs = \"EPSG:4326\""
   ]
  },
  {
   "cell_type": "code",
   "execution_count": 14,
   "metadata": {},
   "outputs": [
    {
     "ename": "TypeError",
     "evalue": "'FeaturesAPI' object is not subscriptable",
     "output_type": "error",
     "traceback": [
      "\u001b[0;31m---------------------------------------------------------------------------\u001b[0m",
      "\u001b[0;31mTypeError\u001b[0m                                 Traceback (most recent call last)",
      "\u001b[1;32m/workspaces/Thesis/osdatafunctions/os_data.ipynb Cell 2\u001b[0m line \u001b[0;36m9\n\u001b[1;32m      <a href='vscode-notebook-cell://codespaces%2Bubiquitous-parakeet-qp9r95x765rf9rgj/workspaces/Thesis/osdatafunctions/os_data.ipynb#W1sdnNjb2RlLXJlbW90ZQ%3D%3D?line=5'>6</a>\u001b[0m product \u001b[39m=\u001b[39m \u001b[39m\"\u001b[39m\u001b[39mZoomstack_DistrictBuildings\u001b[39m\u001b[39m\"\u001b[39m\n\u001b[1;32m      <a href='vscode-notebook-cell://codespaces%2Bubiquitous-parakeet-qp9r95x765rf9rgj/workspaces/Thesis/osdatafunctions/os_data.ipynb#W1sdnNjb2RlLXJlbW90ZQ%3D%3D?line=6'>7</a>\u001b[0m features \u001b[39m=\u001b[39m FeaturesAPI(key, product, extent)\n\u001b[0;32m----> <a href='vscode-notebook-cell://codespaces%2Bubiquitous-parakeet-qp9r95x765rf9rgj/workspaces/Thesis/osdatafunctions/os_data.ipynb#W1sdnNjb2RlLXJlbW90ZQ%3D%3D?line=8'>9</a>\u001b[0m results_gdf \u001b[39m=\u001b[39m gpd\u001b[39m.\u001b[39mGeoDataFrame\u001b[39m.\u001b[39mfrom_features(features[\u001b[39m'\u001b[39;49m\u001b[39mfeatures\u001b[39;49m\u001b[39m'\u001b[39;49m], crs\u001b[39m=\u001b[39mcrs)\n",
      "\u001b[0;31mTypeError\u001b[0m: 'FeaturesAPI' object is not subscriptable"
     ]
    }
   ],
   "source": [
    "# collection = \"trn-ntwk-road\"\n",
    "# roadlines = NGD(key, collection)\n",
    "# # make the query and contact the API\n",
    "# features = roadlines.query(max_results=500, extent=extent)\n",
    "\n",
    "product = \"Zoomstack_DistrictBuildings\"\n",
    "features = FeaturesAPI(key, product, extent)\n",
    "\n",
    "results_gdf = gpd.GeoDataFrame.from_features(features['features'], crs=crs)"
   ]
  },
  {
   "cell_type": "code",
   "execution_count": 45,
   "metadata": {},
   "outputs": [],
   "source": [
    "def OSparam_feature(u,v,rad,product,key,clip):\n",
    "    extent = Extent.from_radius((u,v), rad, \"EPSG:27700\")\n",
    "    features = FeaturesAPI(key, product, extent)\n",
    "    results = features.query(limit=500)\n",
    "    if len(results['features']) == 0:\n",
    "        out = 0\n",
    "    TA_gdf = gpd.GeoDataFrame.from_features(results['features'])\n",
    "\n",
    "    if clip == True:\n",
    "        patch = Point(u,v).buffer(rad)\n",
    "        d = {'col1': ['name1'], 'geometry': [patch]}\n",
    "        patch_df = gpd.GeoDataFrame(d, crs=\"EPSG:27700\")\n",
    "        TA_gdf = TA_gdf.clip(patch)\n",
    "        # TA_gdf = TA_gdf[TA_gdf.geometry.intersects(Point(u,v).buffer(rad))]\n",
    "\n",
    "    try:\n",
    "        gd = (TA_gdf['Theme'] == 'Buildings') & (~np.isnan(TA_gdf['RelH2']))\n",
    "        out = np.average(TA_gdf['RelH2'][gd], weights=TA_gdf['Shape_Area'][gd])\n",
    "    except TypeError:\n",
    "        out = 0\n",
    "    return out, TA_gdf\n",
    "\n"
   ]
  },
  {
   "cell_type": "code",
   "execution_count": 46,
   "metadata": {},
   "outputs": [],
   "source": [
    "X = 529955\n",
    "Y = 179159\n",
    "\n",
    "radius = 1000\n",
    "clip = True\n",
    "\n",
    "# extent = Extent.from_radius((X,Y), radius, \"EPSG:27700\")\n",
    "# features = FeaturesAPI(key, \"Zoomstack_DistrictBuildings\", extent)\n",
    "# results = features.query(limit=500)\n",
    "# print(results)\n",
    "\n",
    "area, TA = OSparam_feature(X, Y, radius, \"topographic_area\",key=key, clip=clip)"
   ]
  },
  {
   "cell_type": "code",
   "execution_count": null,
   "metadata": {},
   "outputs": [],
   "source": []
  },
  {
   "cell_type": "code",
   "execution_count": 51,
   "metadata": {},
   "outputs": [
    {
     "ename": "ValueError",
     "evalue": "Cannot transform naive geometries.  Please set a crs on the object first.",
     "output_type": "error",
     "traceback": [
      "\u001b[0;31m---------------------------------------------------------------------------\u001b[0m",
      "\u001b[0;31mValueError\u001b[0m                                Traceback (most recent call last)",
      "\u001b[1;32m/workspaces/Thesis/osdatafunctions/os_data.ipynb Cell 6\u001b[0m line \u001b[0;36m6\n\u001b[1;32m      <a href='vscode-notebook-cell://codespaces%2Bubiquitous-parakeet-qp9r95x765rf9rgj/workspaces/Thesis/osdatafunctions/os_data.ipynb#W6sdnNjb2RlLXJlbW90ZQ%3D%3D?line=0'>1</a>\u001b[0m \u001b[39mmap\u001b[39m \u001b[39m=\u001b[39m folium\u001b[39m.\u001b[39mMap(location\u001b[39m=\u001b[39m[\u001b[39m51\u001b[39m, \u001b[39m1\u001b[39m], zoom_start\u001b[39m=\u001b[39m\u001b[39m12\u001b[39m)\n\u001b[1;32m      <a href='vscode-notebook-cell://codespaces%2Bubiquitous-parakeet-qp9r95x765rf9rgj/workspaces/Thesis/osdatafunctions/os_data.ipynb#W6sdnNjb2RlLXJlbW90ZQ%3D%3D?line=2'>3</a>\u001b[0m \u001b[39m# sim_geo = gpd.GeoSeries(TA[\"geometry\"]).simplify(tolerance=0.001)\u001b[39;00m\n\u001b[1;32m      <a href='vscode-notebook-cell://codespaces%2Bubiquitous-parakeet-qp9r95x765rf9rgj/workspaces/Thesis/osdatafunctions/os_data.ipynb#W6sdnNjb2RlLXJlbW90ZQ%3D%3D?line=3'>4</a>\u001b[0m \u001b[39m# geo_j = TA.to_json()\u001b[39;00m\n\u001b[0;32m----> <a href='vscode-notebook-cell://codespaces%2Bubiquitous-parakeet-qp9r95x765rf9rgj/workspaces/Thesis/osdatafunctions/os_data.ipynb#W6sdnNjb2RlLXJlbW90ZQ%3D%3D?line=5'>6</a>\u001b[0m TA \u001b[39m=\u001b[39m TA\u001b[39m.\u001b[39;49mto_crs(epsg\u001b[39m=\u001b[39;49m\u001b[39m4326\u001b[39;49m)\n\u001b[1;32m      <a href='vscode-notebook-cell://codespaces%2Bubiquitous-parakeet-qp9r95x765rf9rgj/workspaces/Thesis/osdatafunctions/os_data.ipynb#W6sdnNjb2RlLXJlbW90ZQ%3D%3D?line=7'>8</a>\u001b[0m \u001b[39mfor\u001b[39;00m _, r \u001b[39min\u001b[39;00m TA\u001b[39m.\u001b[39miterrows():\n\u001b[1;32m      <a href='vscode-notebook-cell://codespaces%2Bubiquitous-parakeet-qp9r95x765rf9rgj/workspaces/Thesis/osdatafunctions/os_data.ipynb#W6sdnNjb2RlLXJlbW90ZQ%3D%3D?line=8'>9</a>\u001b[0m     \u001b[39m#without simplifying the representation of each borough, the map might not be displayed\u001b[39;00m\n\u001b[1;32m     <a href='vscode-notebook-cell://codespaces%2Bubiquitous-parakeet-qp9r95x765rf9rgj/workspaces/Thesis/osdatafunctions/os_data.ipynb#W6sdnNjb2RlLXJlbW90ZQ%3D%3D?line=9'>10</a>\u001b[0m     \u001b[39m#sim_geo = gpd.GeoSeries(r['geometry'])\u001b[39;00m\n\u001b[1;32m     <a href='vscode-notebook-cell://codespaces%2Bubiquitous-parakeet-qp9r95x765rf9rgj/workspaces/Thesis/osdatafunctions/os_data.ipynb#W6sdnNjb2RlLXJlbW90ZQ%3D%3D?line=10'>11</a>\u001b[0m     sim_geo \u001b[39m=\u001b[39m gpd\u001b[39m.\u001b[39mGeoSeries(r[\u001b[39m'\u001b[39m\u001b[39mgeometry\u001b[39m\u001b[39m'\u001b[39m])\u001b[39m.\u001b[39msimplify(tolerance\u001b[39m=\u001b[39m\u001b[39m0.001\u001b[39m)\n",
      "File \u001b[0;32m~/.python/current/lib/python3.10/site-packages/geopandas/geodataframe.py:1424\u001b[0m, in \u001b[0;36mGeoDataFrame.to_crs\u001b[0;34m(self, crs, epsg, inplace)\u001b[0m\n\u001b[1;32m   1422\u001b[0m \u001b[39melse\u001b[39;00m:\n\u001b[1;32m   1423\u001b[0m     df \u001b[39m=\u001b[39m \u001b[39mself\u001b[39m\u001b[39m.\u001b[39mcopy()\n\u001b[0;32m-> 1424\u001b[0m geom \u001b[39m=\u001b[39m df\u001b[39m.\u001b[39;49mgeometry\u001b[39m.\u001b[39;49mto_crs(crs\u001b[39m=\u001b[39;49mcrs, epsg\u001b[39m=\u001b[39;49mepsg)\n\u001b[1;32m   1425\u001b[0m df\u001b[39m.\u001b[39mgeometry \u001b[39m=\u001b[39m geom\n\u001b[1;32m   1426\u001b[0m \u001b[39mif\u001b[39;00m \u001b[39mnot\u001b[39;00m inplace:\n",
      "File \u001b[0;32m~/.python/current/lib/python3.10/site-packages/geopandas/geoseries.py:1134\u001b[0m, in \u001b[0;36mGeoSeries.to_crs\u001b[0;34m(self, crs, epsg)\u001b[0m\n\u001b[1;32m   1057\u001b[0m \u001b[39mdef\u001b[39;00m \u001b[39mto_crs\u001b[39m(\u001b[39mself\u001b[39m, crs\u001b[39m=\u001b[39m\u001b[39mNone\u001b[39;00m, epsg\u001b[39m=\u001b[39m\u001b[39mNone\u001b[39;00m):\n\u001b[1;32m   1058\u001b[0m \u001b[39m    \u001b[39m\u001b[39m\"\"\"Returns a ``GeoSeries`` with all geometries transformed to a new\u001b[39;00m\n\u001b[1;32m   1059\u001b[0m \u001b[39m    coordinate reference system.\u001b[39;00m\n\u001b[1;32m   1060\u001b[0m \n\u001b[0;32m   (...)\u001b[0m\n\u001b[1;32m   1131\u001b[0m \n\u001b[1;32m   1132\u001b[0m \u001b[39m    \"\"\"\u001b[39;00m\n\u001b[1;32m   1133\u001b[0m     \u001b[39mreturn\u001b[39;00m GeoSeries(\n\u001b[0;32m-> 1134\u001b[0m         \u001b[39mself\u001b[39;49m\u001b[39m.\u001b[39;49mvalues\u001b[39m.\u001b[39;49mto_crs(crs\u001b[39m=\u001b[39;49mcrs, epsg\u001b[39m=\u001b[39;49mepsg), index\u001b[39m=\u001b[39m\u001b[39mself\u001b[39m\u001b[39m.\u001b[39mindex, name\u001b[39m=\u001b[39m\u001b[39mself\u001b[39m\u001b[39m.\u001b[39mname\n\u001b[1;32m   1135\u001b[0m     )\n",
      "File \u001b[0;32m~/.python/current/lib/python3.10/site-packages/geopandas/array.py:792\u001b[0m, in \u001b[0;36mGeometryArray.to_crs\u001b[0;34m(self, crs, epsg)\u001b[0m\n\u001b[1;32m    723\u001b[0m \u001b[39m\u001b[39m\u001b[39m\"\"\"Returns a ``GeometryArray`` with all geometries transformed to a new\u001b[39;00m\n\u001b[1;32m    724\u001b[0m \u001b[39mcoordinate reference system.\u001b[39;00m\n\u001b[1;32m    725\u001b[0m \n\u001b[0;32m   (...)\u001b[0m\n\u001b[1;32m    789\u001b[0m \n\u001b[1;32m    790\u001b[0m \u001b[39m\"\"\"\u001b[39;00m\n\u001b[1;32m    791\u001b[0m \u001b[39mif\u001b[39;00m \u001b[39mself\u001b[39m\u001b[39m.\u001b[39mcrs \u001b[39mis\u001b[39;00m \u001b[39mNone\u001b[39;00m:\n\u001b[0;32m--> 792\u001b[0m     \u001b[39mraise\u001b[39;00m \u001b[39mValueError\u001b[39;00m(\n\u001b[1;32m    793\u001b[0m         \u001b[39m\"\u001b[39m\u001b[39mCannot transform naive geometries.  \u001b[39m\u001b[39m\"\u001b[39m\n\u001b[1;32m    794\u001b[0m         \u001b[39m\"\u001b[39m\u001b[39mPlease set a crs on the object first.\u001b[39m\u001b[39m\"\u001b[39m\n\u001b[1;32m    795\u001b[0m     )\n\u001b[1;32m    796\u001b[0m \u001b[39mif\u001b[39;00m crs \u001b[39mis\u001b[39;00m \u001b[39mnot\u001b[39;00m \u001b[39mNone\u001b[39;00m:\n\u001b[1;32m    797\u001b[0m     crs \u001b[39m=\u001b[39m CRS\u001b[39m.\u001b[39mfrom_user_input(crs)\n",
      "\u001b[0;31mValueError\u001b[0m: Cannot transform naive geometries.  Please set a crs on the object first."
     ]
    }
   ],
   "source": [
    "map = folium.Map(location=[51, 1], zoom_start=12)\n",
    "\n",
    "# sim_geo = gpd.GeoSeries(TA[\"geometry\"]).simplify(tolerance=0.001)\n",
    "# geo_j = TA.to_json()\n",
    "\n",
    "TA = TA.to_crs(epsg=4326)\n",
    "\n",
    "for _, r in TA.iterrows():\n",
    "    #without simplifying the representation of each borough, the map might not be displayed\n",
    "    #sim_geo = gpd.GeoSeries(r['geometry'])\n",
    "    sim_geo = gpd.GeoSeries(r['geometry']).simplify(tolerance=0.001)\n",
    "    geo_j = sim_geo.to_json()\n",
    "    geo_j = folium.GeoJson(data=geo_j,\n",
    "                           style_function=lambda x: {'fillColor': 'orange'})\n",
    "    folium.Popup(r['RelH2']).add_to(geo_j)\n",
    "    geo_j.add_to(map)\n",
    "map"
   ]
  }
 ],
 "metadata": {
  "kernelspec": {
   "display_name": "masters",
   "language": "python",
   "name": "python3"
  },
  "language_info": {
   "codemirror_mode": {
    "name": "ipython",
    "version": 3
   },
   "file_extension": ".py",
   "mimetype": "text/x-python",
   "name": "python",
   "nbconvert_exporter": "python",
   "pygments_lexer": "ipython3",
   "version": "3.10.8"
  },
  "orig_nbformat": 4
 },
 "nbformat": 4,
 "nbformat_minor": 2
}
