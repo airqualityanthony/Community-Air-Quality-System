{
 "cells": [
  {
   "cell_type": "markdown",
   "metadata": {
    "collapsed": false
   },
   "source": [
    "**JavaScript Developer?** The [JavaScript version of the `osdatahub` library](https://github.com/OrdnanceSurvey/osdatahub-js) makes it easy to use OS data in the browser or in NodeJS."
   ]
  },
  {
   "cell_type": "markdown",
   "metadata": {},
   "source": [
    "# Using the NGD Features API with Python\n",
    "\n",
    "The National Geographic Database (NGD) Features API provides access to Ordnance Survey's next generation NGD data.  \n",
    "The NGD Features API is a premium or public sector product only. If you are looking to access free data, you should use the [OS Features API](https://osdatahub.os.uk/docs/wfs/overview).\n",
    "\n",
    "There are many ways to access the National Geographic Database:\n",
    "- If you'd like to download data using a GUI, [Select+Build](https://www.ordnancesurvey.co.uk/business-government/products/os-select-build), allows you to download multiple types of features at once, delivered as part of the [OS Data Hub](https://osdatahub.os.uk).\n",
    "- The [NGD Features API](https://www.ordnancesurvey.co.uk/business-government/products/os-ngd-api-features) allows for programatic access to NGD data in `GeoJSON` format.\n",
    "\n",
    "For Python developers, the [`osdatahub`](https://github.com/OrdnanceSurvey/osdatahub) Python library wraps almost all APIs in the [OS Data Hub](https://osdatahub.os.uk/) and provides an easy, Pythonic way to get data from Ordnance Survey. We have now added support for the NGD Features API, so you can access OS' latest product and next-generation data with only a few lines of Python code."
   ]
  },
  {
   "cell_type": "markdown",
   "metadata": {},
   "source": [
    "## 1. Getting Started"
   ]
  },
  {
   "cell_type": "markdown",
   "metadata": {},
   "source": [
    "### 1.1 Importing your OS Data Hub API Key\n",
    "In order to access the NGD, you  must first have an OS Data Hub API key, a notebook explaining the process of registering an account and getting an API key is available to read [here](https://github.com/OrdnanceSurvey/osdatahub/blob/master/Examples/Setting%20up%20an%20API%20key.ipynb). When you're choosing which APIs you want to add to your project, you must select \"OS NGD API - Features\" to use NGD data.\n",
    "\n",
    "\n",
    "Once you have an API key, you can load your API key in by either passing it in as a string, or setting it as an environment variable. We recommend using the [`python-dotenv`](https://pypi.org/project/python-dotenv/) library to securely store your API keys in a `.env` file without risk of accidentally committing them in your repo (by adding it to your `.gitignore` file).\n",
    "\n",
    "To use the `python-dotenv` package, simply:\n",
    "1. Install with pip: `pip install python-dotenv`\n",
    "2. Create a `.env` file in the root directory of your project\n",
    "3. Add your API key to the file: `OS_API_KEY=[YOUR API KEY HERE]`"
   ]
  },
  {
   "cell_type": "code",
   "execution_count": 1,
   "metadata": {
    "collapsed": false
   },
   "outputs": [],
   "source": [
    "# Option 1: Assign as a string\n",
    "# This is less secure, you may commit your API key by accident!\n",
    "\n",
    "\n",
    "from os import environ\n",
    "key = environ.get(\"OS_API_KEY\")"
   ]
  },
  {
   "cell_type": "markdown",
   "metadata": {},
   "source": [
    "Nice one! We can now read the contents of the `key` variable to make sure that worked as expected:"
   ]
  },
  {
   "cell_type": "markdown",
   "metadata": {},
   "source": [
    "### 1.2 Importing the NGD Module\n",
    "To import the NGD module from `osdatahub`, write the following:"
   ]
  },
  {
   "cell_type": "code",
   "execution_count": 5,
   "metadata": {},
   "outputs": [],
   "source": [
    "from osdatahub import NGD"
   ]
  },
  {
   "cell_type": "markdown",
   "metadata": {
    "collapsed": false
   },
   "source": [
    "## 2. Discovering Collections\n",
    "The NGD contains multiple themes and collections:\n",
    "- A `theme` is a family of `collections`, for example, there is a theme called 'Buildings'.\n",
    "- A `collection` is a group of features. The Buildings theme contains two collections: 'BuildingLine' and 'BuildingPart'.\n",
    "\n",
    "You can read more about the NGD Features API's themes and collections in the [Technical Specification](https://osdatahub.os.uk/docs/ofa/technicalSpecification)."
   ]
  },
  {
   "cell_type": "markdown",
   "metadata": {},
   "source": [
    "To quickly retrieve a list of available data, you can query the API directly using the `NGD` module we previously imported:"
   ]
  },
  {
   "cell_type": "code",
   "execution_count": 6,
   "metadata": {
    "collapsed": false
   },
   "outputs": [],
   "source": [
    "ngd_collections = NGD.get_collections()"
   ]
  },
  {
   "cell_type": "markdown",
   "metadata": {},
   "source": [
    "This will return a JSON object, which we can then interate through to return metadata about each collection."
   ]
  },
  {
   "cell_type": "code",
   "execution_count": 5,
   "metadata": {},
   "outputs": [
    {
     "name": "stdout",
     "output_type": "stream",
     "text": [
      " - Building Line v1 (bld-fts-buildingline-1)\n",
      " - Building Part v1 (bld-fts-buildingpart-1)\n",
      " - Named Area v1 (gnm-fts-namedarea-1)\n",
      " - Named Point v1 (gnm-fts-namedpoint-1)\n",
      " - Land v1 (lnd-fts-land-1)\n",
      " - Landform v1 (lnd-fts-landform-1)\n",
      " - Landform Line v1 (lnd-fts-landformline-1)\n",
      " - Landform Point v1 (lnd-fts-landformpoint-1)\n",
      " - Land Point v1 (lnd-fts-landpoint-1)\n",
      " - Site v1 (lus-fts-site-1)\n",
      " - Site Access Location v1 (lus-fts-siteaccesslocation-1)\n",
      " - Site Routing Point v1 (lus-fts-siteroutingpoint-1)\n",
      " - Compound Structure v1 (str-fts-compoundstructure-1)\n",
      " - Structure v1 (str-fts-structure-1)\n",
      " - Structure Line v1 (str-fts-structureline-1)\n",
      " - Structure Point v1 (str-fts-structurepoint-1)\n",
      " - Cartographic Rail Detail v1 (trn-fts-cartographicraildetail-1)\n",
      " - Rail v1 (trn-fts-rail-1)\n",
      " - Road Line v1 (trn-fts-roadline-1)\n",
      " - Road Track Or Path v1 (trn-fts-roadtrackorpath-1)\n",
      " - Connecting Link v1 (trn-ntwk-connectinglink-1)\n",
      " - Connecting Node v1 (trn-ntwk-connectingnode-1)\n",
      " - Ferry Link v1 (trn-ntwk-ferrylink-1)\n",
      " - Ferry Node v1 (trn-ntwk-ferrynode-1)\n",
      " - Ferry Terminal v1 (trn-ntwk-ferryterminal-1)\n",
      " - Path v1 (trn-ntwk-path-1)\n",
      " - Path Link v1 (trn-ntwk-pathlink-1)\n",
      " - Path Node v1 (trn-ntwk-pathnode-1)\n",
      " - Road v1 (trn-ntwk-road-1)\n",
      " - Road Junction v1 (trn-ntwk-roadjunction-1)\n",
      " - Road Link v1 (trn-ntwk-roadlink-1)\n",
      " - Road Node v1 (trn-ntwk-roadnode-1)\n",
      " - Street v1 (trn-ntwk-street-1)\n",
      " - Average And Indicative Speed v1 (trn-rami-averageandindicativespeed-1)\n",
      " - Highway Dedication v1 (trn-rami-highwaydedication-1)\n",
      " - Maintenance Area v1 (trn-rami-maintenancearea-1)\n",
      " - Maintenance Line v1 (trn-rami-maintenanceline-1)\n",
      " - Maintenance Point v1 (trn-rami-maintenancepoint-1)\n",
      " - Reinstatement Area v1 (trn-rami-reinstatementarea-1)\n",
      " - Reinstatement Line v1 (trn-rami-reinstatementline-1)\n",
      " - Reinstatement Point v1 (trn-rami-reinstatementpoint-1)\n",
      " - Restriction v1 (trn-rami-restriction-1)\n",
      " - Routing Hazard v1 (trn-rami-routinghazard-1)\n",
      " - RoutingStructure v1 (trn-rami-routingstructure-1)\n",
      " - Special Designation Area v1 (trn-rami-specialdesignationarea-1)\n",
      " - Special Designation Line v1 (trn-rami-specialdesignationline-1)\n",
      " - Special Designation Point v1 (trn-rami-specialdesignationpoint-1)\n",
      " - Inter Tidal Line v1 (wtr-fts-intertidalline-1)\n",
      " - Tidal Boundary v1 (wtr-fts-tidalboundary-1)\n",
      " - Water v1 (wtr-fts-water-1)\n",
      " - Water Point v1 (wtr-fts-waterpoint-1)\n",
      " - Water Link v1 (wtr-ntwk-waterlink-1)\n",
      " - Water Link Set v1 (wtr-ntwk-waterlinkset-1)\n",
      " - Water Node v1 (wtr-ntwk-waternode-1)\n"
     ]
    }
   ],
   "source": [
    "# 🔎 run this cell to view a list of all available NGD collections\n",
    "for collection in ngd_collections['collections']:\n",
    "    print(f' - {collection[\"title\"]} ({collection[\"id\"]})')"
   ]
  },
  {
   "cell_type": "markdown",
   "metadata": {
    "collapsed": false
   },
   "source": [
    "## 3. Loading NGD Data into a GeoDataFrame\n",
    "We'll now walk through the process of acquiring data from the NGD Building Part collection (`bld-fts-buildingpart`) and importing this data into a GeoDataFrame.  "
   ]
  },
  {
   "cell_type": "markdown",
   "metadata": {},
   "source": [
    "### 3.1 Requesting NGD Data\n",
    "To get the first 100 features in the collection, you simply need to make an `NGD` object and then run the `query()` method:"
   ]
  },
  {
   "cell_type": "code",
   "execution_count": 7,
   "metadata": {
    "collapsed": false
   },
   "outputs": [],
   "source": [
    "collection = \"bld-fts-buildingpart\"\n",
    "ngd_building_part = NGD(key, collection)\n",
    "\n",
    "# make the query and contact the API\n",
    "features = ngd_building_part.query(max_results=4)"
   ]
  },
  {
   "cell_type": "markdown",
   "metadata": {
    "collapsed": false
   },
   "source": [
    "The API returns an OGC-compliant GeoJSON, which is easy to import into other libraries for analysis."
   ]
  },
  {
   "cell_type": "markdown",
   "metadata": {},
   "source": [
    "\n",
    "### 3.2 Importing into a GeoDataFrame\n",
    "If you haven't already, import the `geopandas` library:"
   ]
  },
  {
   "cell_type": "code",
   "execution_count": 8,
   "metadata": {
    "collapsed": false
   },
   "outputs": [],
   "source": [
    "import geopandas as gpd"
   ]
  },
  {
   "cell_type": "markdown",
   "metadata": {},
   "source": [
    "And now, import the NGD data using the `.from_features` function."
   ]
  },
  {
   "cell_type": "code",
   "execution_count": 9,
   "metadata": {},
   "outputs": [],
   "source": [
    "gdf = gpd.GeoDataFrame.from_features(features)"
   ]
  },
  {
   "cell_type": "markdown",
   "metadata": {},
   "source": [
    "Let's take a look at a preview of the data (the `.head` function). As you'll see, NGD data is rich in attribution:"
   ]
  },
  {
   "cell_type": "code",
   "execution_count": 10,
   "metadata": {},
   "outputs": [
    {
     "data": {
      "text/html": [
       "<div>\n",
       "<style scoped>\n",
       "    .dataframe tbody tr th:only-of-type {\n",
       "        vertical-align: middle;\n",
       "    }\n",
       "\n",
       "    .dataframe tbody tr th {\n",
       "        vertical-align: top;\n",
       "    }\n",
       "\n",
       "    .dataframe thead th {\n",
       "        text-align: right;\n",
       "    }\n",
       "</style>\n",
       "<table border=\"1\" class=\"dataframe\">\n",
       "  <thead>\n",
       "    <tr style=\"text-align: right;\">\n",
       "      <th></th>\n",
       "      <th>geometry</th>\n",
       "      <th>osid</th>\n",
       "      <th>toid</th>\n",
       "      <th>theme</th>\n",
       "      <th>changetype</th>\n",
       "      <th>isobscured</th>\n",
       "      <th>description</th>\n",
       "      <th>versiondate</th>\n",
       "      <th>geometry_area</th>\n",
       "      <th>height_source</th>\n",
       "      <th>...</th>\n",
       "      <th>absoluteheightroofbase</th>\n",
       "      <th>description_updatedate</th>\n",
       "      <th>oslandcover_updatedate</th>\n",
       "      <th>oslanduse_evidencedate</th>\n",
       "      <th>relativeheightroofbase</th>\n",
       "      <th>versionavailabletodate</th>\n",
       "      <th>firstdigitalcapturedate</th>\n",
       "      <th>description_evidencedate</th>\n",
       "      <th>oslandcover_evidencedate</th>\n",
       "      <th>versionavailablefromdate</th>\n",
       "    </tr>\n",
       "  </thead>\n",
       "  <tbody>\n",
       "    <tr>\n",
       "      <th>0</th>\n",
       "      <td>POLYGON ((-3.97031 55.74255, -3.97019 55.74249...</td>\n",
       "      <td>000000b1-0556-4231-a52a-9b5b8b82dfbf</td>\n",
       "      <td>osgb1000041024621</td>\n",
       "      <td>Buildings</td>\n",
       "      <td>Modified Attributes</td>\n",
       "      <td>False</td>\n",
       "      <td>Building</td>\n",
       "      <td>2022-09-18</td>\n",
       "      <td>59.200650</td>\n",
       "      <td>Ordnance Survey</td>\n",
       "      <td>...</td>\n",
       "      <td>110.85</td>\n",
       "      <td>2006-08-30</td>\n",
       "      <td>2006-08-30</td>\n",
       "      <td>2006-08-30</td>\n",
       "      <td>5.85</td>\n",
       "      <td>None</td>\n",
       "      <td>1991-09-18</td>\n",
       "      <td>2006-08-30</td>\n",
       "      <td>2006-08-30</td>\n",
       "      <td>2022-09-19T00:00:00Z</td>\n",
       "    </tr>\n",
       "    <tr>\n",
       "      <th>1</th>\n",
       "      <td>POLYGON ((1.72756 52.66142, 1.72755 52.66144, ...</td>\n",
       "      <td>00000183-3ae0-4f05-adb8-a5792d09f55f</td>\n",
       "      <td>osgb5000005167584940</td>\n",
       "      <td>Buildings</td>\n",
       "      <td>New</td>\n",
       "      <td>False</td>\n",
       "      <td>Building</td>\n",
       "      <td>2022-08-26</td>\n",
       "      <td>9.499142</td>\n",
       "      <td>Ordnance Survey</td>\n",
       "      <td>...</td>\n",
       "      <td>6.21</td>\n",
       "      <td>2015-10-29</td>\n",
       "      <td>2015-10-29</td>\n",
       "      <td>2015-03-11</td>\n",
       "      <td>0.82</td>\n",
       "      <td>None</td>\n",
       "      <td>2015-11-12</td>\n",
       "      <td>2015-03-11</td>\n",
       "      <td>2015-03-11</td>\n",
       "      <td>2022-08-27T00:00:00Z</td>\n",
       "    </tr>\n",
       "    <tr>\n",
       "      <th>2</th>\n",
       "      <td>POLYGON ((0.19415 51.59241, 0.19411 51.59241, ...</td>\n",
       "      <td>000001d6-8217-4f7a-a70e-3757eb76c9e4</td>\n",
       "      <td>osgb1000000360448</td>\n",
       "      <td>Buildings</td>\n",
       "      <td>New</td>\n",
       "      <td>False</td>\n",
       "      <td>Building</td>\n",
       "      <td>2022-08-26</td>\n",
       "      <td>15.258750</td>\n",
       "      <td>Ordnance Survey</td>\n",
       "      <td>...</td>\n",
       "      <td>37.13</td>\n",
       "      <td>1993-04-01</td>\n",
       "      <td>1993-04-01</td>\n",
       "      <td>1993-04-01</td>\n",
       "      <td>2.43</td>\n",
       "      <td>None</td>\n",
       "      <td>1993-04-01</td>\n",
       "      <td>1993-04-01</td>\n",
       "      <td>1993-04-01</td>\n",
       "      <td>2022-08-27T00:00:00Z</td>\n",
       "    </tr>\n",
       "    <tr>\n",
       "      <th>3</th>\n",
       "      <td>POLYGON ((-1.45472 52.39610, -1.45479 52.39613...</td>\n",
       "      <td>00000208-a659-49f9-a587-ab26cb2b2248</td>\n",
       "      <td>osgb1000017249389</td>\n",
       "      <td>Buildings</td>\n",
       "      <td>New</td>\n",
       "      <td>False</td>\n",
       "      <td>Building</td>\n",
       "      <td>2022-08-26</td>\n",
       "      <td>12.806250</td>\n",
       "      <td>Ordnance Survey</td>\n",
       "      <td>...</td>\n",
       "      <td>71.95</td>\n",
       "      <td>1993-05-01</td>\n",
       "      <td>1993-05-01</td>\n",
       "      <td>1993-05-01</td>\n",
       "      <td>1.96</td>\n",
       "      <td>None</td>\n",
       "      <td>1993-05-01</td>\n",
       "      <td>1993-05-01</td>\n",
       "      <td>1993-05-01</td>\n",
       "      <td>2022-08-27T00:00:00Z</td>\n",
       "    </tr>\n",
       "  </tbody>\n",
       "</table>\n",
       "<p>4 rows × 40 columns</p>\n",
       "</div>"
      ],
      "text/plain": [
       "                                            geometry  \\\n",
       "0  POLYGON ((-3.97031 55.74255, -3.97019 55.74249...   \n",
       "1  POLYGON ((1.72756 52.66142, 1.72755 52.66144, ...   \n",
       "2  POLYGON ((0.19415 51.59241, 0.19411 51.59241, ...   \n",
       "3  POLYGON ((-1.45472 52.39610, -1.45479 52.39613...   \n",
       "\n",
       "                                   osid                  toid      theme  \\\n",
       "0  000000b1-0556-4231-a52a-9b5b8b82dfbf     osgb1000041024621  Buildings   \n",
       "1  00000183-3ae0-4f05-adb8-a5792d09f55f  osgb5000005167584940  Buildings   \n",
       "2  000001d6-8217-4f7a-a70e-3757eb76c9e4     osgb1000000360448  Buildings   \n",
       "3  00000208-a659-49f9-a587-ab26cb2b2248     osgb1000017249389  Buildings   \n",
       "\n",
       "            changetype  isobscured description versiondate  geometry_area  \\\n",
       "0  Modified Attributes       False    Building  2022-09-18      59.200650   \n",
       "1                  New       False    Building  2022-08-26       9.499142   \n",
       "2                  New       False    Building  2022-08-26      15.258750   \n",
       "3                  New       False    Building  2022-08-26      12.806250   \n",
       "\n",
       "     height_source  ... absoluteheightroofbase description_updatedate  \\\n",
       "0  Ordnance Survey  ...                 110.85             2006-08-30   \n",
       "1  Ordnance Survey  ...                   6.21             2015-10-29   \n",
       "2  Ordnance Survey  ...                  37.13             1993-04-01   \n",
       "3  Ordnance Survey  ...                  71.95             1993-05-01   \n",
       "\n",
       "  oslandcover_updatedate oslanduse_evidencedate relativeheightroofbase  \\\n",
       "0             2006-08-30             2006-08-30                   5.85   \n",
       "1             2015-10-29             2015-03-11                   0.82   \n",
       "2             1993-04-01             1993-04-01                   2.43   \n",
       "3             1993-05-01             1993-05-01                   1.96   \n",
       "\n",
       "  versionavailabletodate firstdigitalcapturedate description_evidencedate  \\\n",
       "0                   None              1991-09-18               2006-08-30   \n",
       "1                   None              2015-11-12               2015-03-11   \n",
       "2                   None              1993-04-01               1993-04-01   \n",
       "3                   None              1993-05-01               1993-05-01   \n",
       "\n",
       "  oslandcover_evidencedate versionavailablefromdate  \n",
       "0               2006-08-30     2022-09-19T00:00:00Z  \n",
       "1               2015-03-11     2022-08-27T00:00:00Z  \n",
       "2               1993-04-01     2022-08-27T00:00:00Z  \n",
       "3               1993-05-01     2022-08-27T00:00:00Z  \n",
       "\n",
       "[4 rows x 40 columns]"
      ]
     },
     "execution_count": 10,
     "metadata": {},
     "output_type": "execute_result"
    }
   ],
   "source": [
    "# 🔎 run this cell to preview the contents of the GeoDataFrame\n",
    "gdf.head()"
   ]
  },
  {
   "cell_type": "markdown",
   "metadata": {
    "collapsed": false
   },
   "source": [
    "You can learn more about importing data from the `osdatahub` package into other common Python libraries [in this example](https://github.com/OrdnanceSurvey/osdatahub/blob/master/Examples/Plotting%20API%20Results%20-%20GeoPandas%2C%20Matplotlib%20and%20Contextily.ipynb)."
   ]
  },
  {
   "cell_type": "markdown",
   "metadata": {
    "collapsed": false
   },
   "source": [
    "## 4. Adding Filters\n",
    "\n",
    "Filters can help you limit the scope of your query, using spatial, temporal and contextual parameters.  \n",
    "The NGD Features API uses Common Query Language (CQL) to allow you to filter data using the attribution set of each collection.\n",
    "\n",
    "- Spatial: `extent`  \n",
    "You can specify any polygon to query by using the `Extent` class. You can learn more about using `Extent` [here](https://github.com/OrdnanceSurvey/osdatahub/blob/master/Examples/Defining%20Extents%20for%20API%20Queries.ipynb)\n",
    "\n",
    "- Temporal: `start_datetime` and `end_datetime`  \n",
    "If you want to only get features that have a temporal property, you can specify date ranges to query within. If you want to get features for a single time, simply provide the same argument for both parameters.\n",
    "\n",
    "- Contextual: `cql_filter`  \n",
    "The NGD API supports a generic filter grammar called the Common Query Language (CQL) to further filter your query using human readable commands. You can find out more about the operations that the API supports in the Queryables section of the [Technical Specification](https://osdatahub.os.uk/docs/ofa/technicalSpecification). The CQL filter allows you to specify specific properties for features as well as spatial filters.\n",
    "\n",
    "In addition, the `osdatahub` library permits you to specify the maximum number of features to return (by default, 100 features):\n",
    "\n",
    "- `max_results`  \n",
    "Allows you to specify the maximum number of features you'd like to receive. Default is 100.\n",
    "\n",
    "- `offset`  \n",
    "Skips past the specified number of features in the collection. Default is 0."
   ]
  },
  {
   "cell_type": "markdown",
   "metadata": {},
   "source": [
    "### 4.1 Specifying an Extent (Bounding Box)\n",
    "\n",
    "In our case, we want to get features that are only within a certain bounding box in Manchester.  \n",
    "We can specify an extent using the `Extent` submodule:"
   ]
  },
  {
   "cell_type": "code",
   "execution_count": 11,
   "metadata": {},
   "outputs": [],
   "source": [
    "from osdatahub import Extent"
   ]
  },
  {
   "cell_type": "markdown",
   "metadata": {},
   "source": [
    "Now we can use the `Extent` module to specify the geometry, and then pass this into the `ngdBuildingPart` query:"
   ]
  },
  {
   "cell_type": "code",
   "execution_count": 17,
   "metadata": {
    "collapsed": false
   },
   "outputs": [
    {
     "data": {
      "text/plain": [
       "{'type': 'FeatureCollection',\n",
       " 'links': [{'href': 'https://api.os.uk/features/ngd/ofa/v1/collections/bld-fts-buildingpart-1/items?limit=4&filter=INTERSECTS%28geometry%2C%20POLYGON%20%28%28-2.237799%2053.47662%2C%20-2.237799%2053.480525%2C%20-2.244973%2053.480525%2C%20-2.244973%2053.47662%2C%20-2.237799%2053.47662%29%29%29&filter-crs=http%3A%2F%2Fwww.opengis.net%2Fdef%2Fcrs%2FOGC%2F1.3%2FCRS84',\n",
       "   'rel': 'self',\n",
       "   'type': 'application/geo+json',\n",
       "   'title': \"All features from the 'Building Part v1' collection\"},\n",
       "  {'href': 'https://api.os.uk/features/ngd/ofa/v1/collections/bld-fts-buildingpart-1/items?offset=4&limit=4&filter=INTERSECTS%28geometry%2C%20POLYGON%20%28%28-2.237799%2053.47662%2C%20-2.237799%2053.480525%2C%20-2.244973%2053.480525%2C%20-2.244973%2053.47662%2C%20-2.237799%2053.47662%29%29%29&filter-crs=http%3A%2F%2Fwww.opengis.net%2Fdef%2Fcrs%2FOGC%2F1.3%2FCRS84',\n",
       "   'rel': 'next',\n",
       "   'type': 'application/geo+json',\n",
       "   'title': 'Next page'}],\n",
       " 'timeStamp': '2023-08-24T10:11:09.767157926Z',\n",
       " 'numberReturned': 4,\n",
       " 'features': [{'id': '02837688-4553-4d32-87aa-10733dad9274',\n",
       "   'type': 'Feature',\n",
       "   'geometry': {'type': 'Polygon',\n",
       "    'coordinates': [[[-2.2409815, 53.4790683],\n",
       "      [-2.2410231, 53.4790893],\n",
       "      [-2.2410816, 53.4790478],\n",
       "      [-2.2410546, 53.4790343],\n",
       "      [-2.2410468, 53.4790304],\n",
       "      [-2.2410408, 53.4790272],\n",
       "      [-2.2409815, 53.4790683]]]},\n",
       "   'properties': {'osid': '02837688-4553-4d32-87aa-10733dad9274',\n",
       "    'toid': 'osgb1000024157902',\n",
       "    'theme': 'Buildings',\n",
       "    'changetype': 'New',\n",
       "    'isobscured': False,\n",
       "    'description': 'Building',\n",
       "    'versiondate': '2022-08-26',\n",
       "    'geometry_area': 21.57975,\n",
       "    'height_source': 'Ordnance Survey',\n",
       "    'physicallevel': 'Surface Level',\n",
       "    'oslandusetiera': 'Unknown Or Unused Artificial',\n",
       "    'oslandusetierb': [],\n",
       "    'geometry_source': 'Ordnance Survey',\n",
       "    'oslandcovertiera': 'Constructed',\n",
       "    'oslandcovertierb': ['Building'],\n",
       "    'oslanduse_source': 'Ordnance Survey',\n",
       "    'height_updatedate': '2022-08-24',\n",
       "    'description_source': 'Ordnance Survey',\n",
       "    'oslandcover_source': 'Ordnance Survey',\n",
       "    'associatedstructure': None,\n",
       "    'geometry_updatedate': '2016-10-26',\n",
       "    'height_evidencedate': '2021-04-19',\n",
       "    'capturespecification': 'Urban',\n",
       "    'oslanduse_updatedate': '1993-05-01',\n",
       "    'absoluteheightmaximum': 68.98,\n",
       "    'absoluteheightminimum': 43.34,\n",
       "    'geometry_evidencedate': '2016-10-04',\n",
       "    'heightconfidencelevel': 'Not Assessed',\n",
       "    'relativeheightmaximum': 25.64,\n",
       "    'absoluteheightroofbase': 66.54,\n",
       "    'description_updatedate': '1993-05-01',\n",
       "    'oslandcover_updatedate': '1993-05-01',\n",
       "    'oslanduse_evidencedate': '1993-05-01',\n",
       "    'relativeheightroofbase': 23.2,\n",
       "    'versionavailabletodate': None,\n",
       "    'firstdigitalcapturedate': '1993-05-01',\n",
       "    'description_evidencedate': '1993-05-01',\n",
       "    'oslandcover_evidencedate': '1993-05-01',\n",
       "    'versionavailablefromdate': '2022-08-27T00:00:00Z'}},\n",
       "  {'id': '02c6f2c7-0e25-4224-b4a7-c62c7d476e48',\n",
       "   'type': 'Feature',\n",
       "   'geometry': {'type': 'Polygon',\n",
       "    'coordinates': [[[-2.2413512, 53.479827],\n",
       "      [-2.2412429, 53.4798623],\n",
       "      [-2.2412301, 53.4798713],\n",
       "      [-2.2412114, 53.479888],\n",
       "      [-2.2412115, 53.4799158],\n",
       "      [-2.2415417, 53.4800837],\n",
       "      [-2.241596, 53.4800831],\n",
       "      [-2.241707, 53.4800056],\n",
       "      [-2.2416882, 53.4799971],\n",
       "      [-2.2413512, 53.479827]]]},\n",
       "   'properties': {'osid': '02c6f2c7-0e25-4224-b4a7-c62c7d476e48',\n",
       "    'toid': 'osgb1000024157913',\n",
       "    'theme': 'Buildings',\n",
       "    'changetype': 'Modified Attributes',\n",
       "    'isobscured': False,\n",
       "    'description': 'Building',\n",
       "    'versiondate': '2023-06-03',\n",
       "    'geometry_area': 441.13125,\n",
       "    'height_source': 'Ordnance Survey',\n",
       "    'physicallevel': 'Surface Level',\n",
       "    'oslandusetiera': 'Commercial Activity: Retail',\n",
       "    'oslandusetierb': [],\n",
       "    'geometry_source': 'Ordnance Survey',\n",
       "    'oslandcovertiera': 'Constructed',\n",
       "    'oslandcovertierb': ['Building'],\n",
       "    'oslanduse_source': 'Ordnance Survey',\n",
       "    'height_updatedate': '2022-08-24',\n",
       "    'description_source': 'Ordnance Survey',\n",
       "    'oslandcover_source': 'Ordnance Survey',\n",
       "    'associatedstructure': None,\n",
       "    'geometry_updatedate': '2010-04-13',\n",
       "    'height_evidencedate': '2021-04-19',\n",
       "    'capturespecification': 'Urban',\n",
       "    'oslanduse_updatedate': '2010-04-13',\n",
       "    'absoluteheightmaximum': 67.69,\n",
       "    'absoluteheightminimum': 44.22,\n",
       "    'geometry_evidencedate': '2010-04-13',\n",
       "    'heightconfidencelevel': 'Not Assessed',\n",
       "    'relativeheightmaximum': 23.47,\n",
       "    'absoluteheightroofbase': 60.87,\n",
       "    'description_updatedate': '2010-04-13',\n",
       "    'oslandcover_updatedate': '2010-04-13',\n",
       "    'oslanduse_evidencedate': '2010-04-13',\n",
       "    'relativeheightroofbase': 16.65,\n",
       "    'versionavailabletodate': None,\n",
       "    'firstdigitalcapturedate': '1993-05-01',\n",
       "    'description_evidencedate': '2010-04-13',\n",
       "    'oslandcover_evidencedate': '2010-04-13',\n",
       "    'versionavailablefromdate': '2023-06-04T00:00:00Z'}},\n",
       "  {'id': '0364fa8b-024a-4078-ae13-4a3e21c5e744',\n",
       "   'type': 'Feature',\n",
       "   'geometry': {'type': 'Polygon',\n",
       "    'coordinates': [[[-2.2400737, 53.4781353],\n",
       "      [-2.2401765, 53.4780632],\n",
       "      [-2.2399967, 53.4779687],\n",
       "      [-2.2398811, 53.4780359],\n",
       "      [-2.2400737, 53.4781353]]]},\n",
       "   'properties': {'osid': '0364fa8b-024a-4078-ae13-4a3e21c5e744',\n",
       "    'toid': 'osgb1000024155721',\n",
       "    'theme': 'Buildings',\n",
       "    'changetype': 'New',\n",
       "    'isobscured': False,\n",
       "    'description': 'Building',\n",
       "    'versiondate': '2022-08-26',\n",
       "    'geometry_area': 173.9625,\n",
       "    'height_source': 'Ordnance Survey',\n",
       "    'physicallevel': 'Surface Level',\n",
       "    'oslandusetiera': 'Unknown Or Unused Artificial',\n",
       "    'oslandusetierb': [],\n",
       "    'geometry_source': 'Ordnance Survey',\n",
       "    'oslandcovertiera': 'Constructed',\n",
       "    'oslandcovertierb': ['Building'],\n",
       "    'oslanduse_source': 'Ordnance Survey',\n",
       "    'height_updatedate': '2022-08-24',\n",
       "    'description_source': 'Ordnance Survey',\n",
       "    'oslandcover_source': 'Ordnance Survey',\n",
       "    'associatedstructure': None,\n",
       "    'geometry_updatedate': '1993-05-01',\n",
       "    'height_evidencedate': '2021-04-19',\n",
       "    'capturespecification': 'Urban',\n",
       "    'oslanduse_updatedate': '1993-05-01',\n",
       "    'absoluteheightmaximum': 57.17,\n",
       "    'absoluteheightminimum': 42.16,\n",
       "    'geometry_evidencedate': '1993-05-01',\n",
       "    'heightconfidencelevel': 'Not Assessed',\n",
       "    'relativeheightmaximum': 15.01,\n",
       "    'absoluteheightroofbase': 52.83,\n",
       "    'description_updatedate': '1993-05-01',\n",
       "    'oslandcover_updatedate': '1993-05-01',\n",
       "    'oslanduse_evidencedate': '1993-05-01',\n",
       "    'relativeheightroofbase': 10.67,\n",
       "    'versionavailabletodate': None,\n",
       "    'firstdigitalcapturedate': '1993-05-01',\n",
       "    'description_evidencedate': '1993-05-01',\n",
       "    'oslandcover_evidencedate': '1993-05-01',\n",
       "    'versionavailablefromdate': '2022-08-27T00:00:00Z'}},\n",
       "  {'id': '04b6b1d7-2a73-4173-b953-20c3ef2e6ce7',\n",
       "   'type': 'Feature',\n",
       "   'geometry': {'type': 'Polygon',\n",
       "    'coordinates': [[[-2.2377298, 53.4769175],\n",
       "      [-2.2377304, 53.4769179],\n",
       "      [-2.2378319, 53.4769761],\n",
       "      [-2.2378824, 53.4769448],\n",
       "      [-2.2377808, 53.4768865],\n",
       "      [-2.2377802, 53.4768862],\n",
       "      [-2.2377298, 53.4769175]]]},\n",
       "   'properties': {'osid': '04b6b1d7-2a73-4173-b953-20c3ef2e6ce7',\n",
       "    'toid': 'osgb5000005290155401',\n",
       "    'theme': 'Buildings',\n",
       "    'changetype': 'Modified Attributes',\n",
       "    'isobscured': False,\n",
       "    'description': 'Building',\n",
       "    'versiondate': '2022-09-26',\n",
       "    'geometry_area': 45.440587,\n",
       "    'height_source': None,\n",
       "    'physicallevel': 'Surface Level',\n",
       "    'oslandusetiera': 'Residential Accommodation',\n",
       "    'oslandusetierb': ['Private Residence'],\n",
       "    'geometry_source': 'Ordnance Survey',\n",
       "    'oslandcovertiera': 'Constructed',\n",
       "    'oslandcovertierb': ['Building'],\n",
       "    'oslanduse_source': 'Ordnance Survey',\n",
       "    'height_updatedate': None,\n",
       "    'description_source': 'Ordnance Survey',\n",
       "    'oslandcover_source': 'Ordnance Survey',\n",
       "    'associatedstructure': None,\n",
       "    'geometry_updatedate': '2021-11-30',\n",
       "    'height_evidencedate': None,\n",
       "    'capturespecification': 'Urban',\n",
       "    'oslanduse_updatedate': '2021-11-30',\n",
       "    'absoluteheightmaximum': None,\n",
       "    'absoluteheightminimum': None,\n",
       "    'geometry_evidencedate': '2021-11-30',\n",
       "    'heightconfidencelevel': None,\n",
       "    'relativeheightmaximum': None,\n",
       "    'absoluteheightroofbase': None,\n",
       "    'description_updatedate': '2021-11-30',\n",
       "    'oslandcover_updatedate': '2021-11-30',\n",
       "    'oslanduse_evidencedate': '2021-11-30',\n",
       "    'relativeheightroofbase': None,\n",
       "    'versionavailabletodate': None,\n",
       "    'firstdigitalcapturedate': '2021-11-30',\n",
       "    'description_evidencedate': '2021-11-30',\n",
       "    'oslandcover_evidencedate': '2021-11-30',\n",
       "    'versionavailablefromdate': '2022-09-27T00:00:00Z'}}]}"
      ]
     },
     "execution_count": 17,
     "metadata": {},
     "output_type": "execute_result"
    }
   ],
   "source": [
    "extent = Extent.from_bbox((-2.244973,53.476620,-2.237799,53.480525), crs=\"CRS84\")\n",
    "features = ngd_building_part.query(extent=extent, max_results=4) # note: remove max_results param to get all features!\n",
    "\n",
    "# 🔎 run this cell to see the contents of 'features'\n",
    "features"
   ]
  },
  {
   "cell_type": "markdown",
   "metadata": {
    "collapsed": false
   },
   "source": [
    "### 4.2 Plotting"
   ]
  },
  {
   "cell_type": "code",
   "execution_count": null,
   "metadata": {},
   "outputs": [],
   "source": [
    "# Choose data product\n",
    "product = 'zoomstack_surface_water'\n",
    "\n",
    "# Define query extent\n",
    "W, S = (342730, 137700)\n",
    "E, N = (347700, 141642)\n",
    "crs = \"EPSG:27700\"\n",
    "extent = Extent.from_bbox((W, S, E, N), crs=crs)\n",
    "\n",
    "# Query API\n",
    "# key = os.environ.get(\"OS_API_KEY\")\n",
    "key = os.environ.get('OS_API_KEY')\n",
    "surface_water = FeaturesAPI(key, product, extent)\n",
    "surface_water_results = surface_water.query(limit=100000)"
   ]
  },
  {
   "cell_type": "code",
   "execution_count": 15,
   "metadata": {},
   "outputs": [
    {
     "data": {
      "image/png": "[encoded data removed]",
      "text/plain": [
       "<Figure size 1200x1000 with 1 Axes>"
      ]
     },
     "metadata": {},
     "output_type": "display_data"
    }
   ],
   "source": [
    "import matplotlib.pyplot as plt\n",
    "\n",
    "ax = gdf.plot(color=\"indigo\", figsize=(12, 10))\n",
    "\n",
    "ax.plot(*zip(*extent.polygon.exterior.coords), color=\"dimgray\",\n",
    "        linestyle='--', label=\"Bounding Box\")\n",
    "\n",
    "# Define limits of the plot\n",
    "bounds = extent.polygon.bounds\n",
    "# margin adds a bit of space around the bounding box\n",
    "margin = 500\n",
    "x_limits = (bounds[0] - margin, bounds[2] + margin)\n",
    "y_limits = (bounds[1] - margin, bounds[3] + margin)\n",
    "ax.set_xlim(*x_limits)\n",
    "ax.set_ylim(*y_limits)\n",
    "\n",
    "# Add labels\n",
    "ax.set_xlabel(\"Eastings\")\n",
    "ax.set_ylabel(\"Northings\")\n",
    "ax.set_title(\"Zoomstack Surface Water\")\n",
    "plt.legend()\n",
    "plt.show()"
   ]
  }
 ],
 "metadata": {
  "kernelspec": {
   "display_name": "Python 3.9.13 ('osdatahub')",
   "language": "python",
   "name": "python3"
  },
  "language_info": {
   "codemirror_mode": {
    "name": "ipython",
    "version": 3
   },
   "file_extension": ".py",
   "mimetype": "text/x-python",
   "name": "python",
   "nbconvert_exporter": "python",
   "pygments_lexer": "ipython3",
   "version": "3.10.12"
  },
  "vscode": {
   "interpreter": {
    "hash": "2a0b2fe6f857f650798462ef378384af4c2c1efd820a56175b18820cff923d83"
   }
  }
 },
 "nbformat": 4,
 "nbformat_minor": 0
}
